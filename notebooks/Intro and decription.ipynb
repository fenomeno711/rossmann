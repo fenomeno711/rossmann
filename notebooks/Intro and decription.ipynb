{
 "cells": [
  {
   "cell_type": "markdown",
   "metadata": {},
   "source": [
    "# Rossmann Sales Prediction"
   ]
  },
  {
   "cell_type": "markdown",
   "metadata": {},
   "source": [
    "## Introduction"
   ]
  },
  {
   "cell_type": "markdown",
   "metadata": {},
   "source": [
    "What, where, how"
   ]
  },
  {
   "cell_type": "markdown",
   "metadata": {},
   "source": [
    "### Task"
   ]
  },
  {
   "cell_type": "markdown",
   "metadata": {},
   "source": [
    "Prediction of Sales and Customers."
   ]
  },
  {
   "cell_type": "markdown",
   "metadata": {},
   "source": [
    "### Description of dataset"
   ]
  },
  {
   "cell_type": "markdown",
   "metadata": {},
   "source": [
    "Data fields\n",
    "\n",
    "Most of the fields are self-explanatory. The following are descriptions for those that aren't.\n",
    "\n",
    "Id - an Id that represents a (Store, Date) duple within the test set\n",
    "Store - a unique Id for each store\n",
    "Sales - the turnover for any given day (this is what you are predicting)\n",
    "Customers - the number of customers on a given day\n",
    "Open - an indicator for whether the store was open: 0 = closed, 1 = open\n",
    "StateHoliday - indicates a state holiday. Normally all stores, with few exceptions, are closed on state holidays. \n",
    "    Note that all schools are closed on public holidays and weekends. \n",
    "    a = public holiday, b = Easter holiday, c = Christmas, 0 = None\n",
    "SchoolHoliday - indicates if the (Store, Date) was affected by the closure of public schools\n",
    "StoreType - differentiates between 4 different store models: a, b, c, d\n",
    "Assortment - describes an assortment level: a = basic, b = extra, c = extended\n",
    "CompetitionDistance - distance in meters to the nearest competitor store\n",
    "CompetitionOpenSince[Month/Year] - gives the approximate year and month of the time the nearest competitor was opened\n",
    "Promo - indicates whether a store is running a promo on that day\n",
    "Promo2 - Promo2 is a continuing and consecutive promotion for some stores: \n",
    "    0 = store is not participating, 1 = store is participating\n",
    "Promo2Since[Year/Week] - describes the year and calendar week when the store started participating in Promo2\n",
    "PromoInterval - describes the consecutive intervals Promo2 is started, naming the months the promotion is \n",
    "    started anew. E.g. \"Feb,May,Aug,Nov\" means each round starts in February, May, August, November \n",
    "    of any given year for that store\n"
   ]
  }
 ],
 "metadata": {
  "kernelspec": {
   "display_name": "Python 3",
   "language": "python",
   "name": "python3"
  },
  "language_info": {
   "codemirror_mode": {
    "name": "ipython",
    "version": 3
   },
   "file_extension": ".py",
   "mimetype": "text/x-python",
   "name": "python",
   "nbconvert_exporter": "python",
   "pygments_lexer": "ipython3",
   "version": "3.6.5"
  }
 },
 "nbformat": 4,
 "nbformat_minor": 2
}
